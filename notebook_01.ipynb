{
 "cells": [
  {
   "metadata": {},
   "cell_type": "markdown",
   "source": "Explore the dataset",
   "id": "4b8a53003f2bf084"
  },
  {
   "metadata": {
    "ExecuteTime": {
     "end_time": "2025-05-04T09:13:49.169772Z",
     "start_time": "2025-05-04T09:13:47.959199Z"
    }
   },
   "cell_type": "code",
   "source": [
    "import pandas as pd\n",
    "import numpy as np\n",
    "import matplotlib.pyplot as plt\n",
    "import seaborn as sns\n",
    "from datetime import datetime\n",
    "\n",
    "from numpy.ma.extras import column_stack\n",
    "from pandas import isnull"
   ],
   "id": "91de6e4d1f7432ae",
   "outputs": [],
   "execution_count": 6
  },
  {
   "metadata": {
    "ExecuteTime": {
     "end_time": "2025-05-04T09:09:24.052259Z",
     "start_time": "2025-05-04T09:09:23.971201Z"
    }
   },
   "cell_type": "code",
   "source": "df = pd.read_csv('data/car_reviews_full.csv')",
   "id": "57d879d48030208c",
   "outputs": [],
   "execution_count": 3
  },
  {
   "metadata": {
    "ExecuteTime": {
     "end_time": "2025-05-04T09:09:35.236916Z",
     "start_time": "2025-05-04T09:09:35.225146Z"
    }
   },
   "cell_type": "code",
   "source": "df.head()",
   "id": "fcec312960878860",
   "outputs": [
    {
     "data": {
      "text/plain": [
       "     Brand           Car Model  Rating  \\\n",
       "0  lincoln  Lincoln Mks (2014)     4.0   \n",
       "1  lincoln  Lincoln Mks (2014)     4.0   \n",
       "2  lincoln  Lincoln Mks (2014)     3.0   \n",
       "3  lincoln  Lincoln Mks (2014)     5.0   \n",
       "4  lincoln  Lincoln Mks (2014)     5.0   \n",
       "\n",
       "                                               Title  \\\n",
       "0                       A throwback to a better time   \n",
       "1  Fine car - rides noisy. Lumpa and pothole sera...   \n",
       "2                                        steer clear   \n",
       "3          One of the Last Great Big American Sedans   \n",
       "4                   Luxury Luxury with a sporty look   \n",
       "\n",
       "                                         Review Text                Date  \\\n",
       "0  This is my second MKS, both 2015 AWD models.  ...  September 28, 2022   \n",
       "1  2014 Great car. Power, handling,comfort,except...        June 6, 2022   \n",
       "2  I bought a 2013 with factory 20\" wheels. It do...       April 2, 2021   \n",
       "3  This is one of the last great big American Sed...  September 23, 2020   \n",
       "4  I love this vehicle and wish I had owned one s...       June 13, 2020   \n",
       "\n",
       "          Reviewer          Location      Ownership Comfort Interior  \\\n",
       "0    Dennis Mincin    Belleville, NJ  Owns this car     5.0      5.0   \n",
       "1          William     Alfred, Maine  Owns this car     4.0      4.0   \n",
       "2  Dave's not here       Kansas City  Owns this car     1.0      4.0   \n",
       "3          Bran 29                IL  Owns this car     5.0      5.0   \n",
       "4     Makinwaves96  EAST PRAIRIE, Mo  Owns this car     5.0      5.0   \n",
       "\n",
       "  Performance Value Exterior Reliability Purchased             Used For  \\\n",
       "0         5.0   4.0      5.0         5.0      Used           Having fun   \n",
       "1         5.0   4.0      5.0         4.0      Used  Transporting family   \n",
       "2         4.0   3.0      5.0         2.0      Used            Commuting   \n",
       "3         5.0   5.0      5.0         5.0       New            Commuting   \n",
       "4         5.0   5.0      5.0         5.0      Used  Transporting family   \n",
       "\n",
       "  Recommend Helpful  \n",
       "0      Does     6/6  \n",
       "1      Does     6/6  \n",
       "2      Does   25/28  \n",
       "3      Does   15/15  \n",
       "4      Does   12/12  "
      ],
      "text/html": [
       "<div>\n",
       "<style scoped>\n",
       "    .dataframe tbody tr th:only-of-type {\n",
       "        vertical-align: middle;\n",
       "    }\n",
       "\n",
       "    .dataframe tbody tr th {\n",
       "        vertical-align: top;\n",
       "    }\n",
       "\n",
       "    .dataframe thead th {\n",
       "        text-align: right;\n",
       "    }\n",
       "</style>\n",
       "<table border=\"1\" class=\"dataframe\">\n",
       "  <thead>\n",
       "    <tr style=\"text-align: right;\">\n",
       "      <th></th>\n",
       "      <th>Brand</th>\n",
       "      <th>Car Model</th>\n",
       "      <th>Rating</th>\n",
       "      <th>Title</th>\n",
       "      <th>Review Text</th>\n",
       "      <th>Date</th>\n",
       "      <th>Reviewer</th>\n",
       "      <th>Location</th>\n",
       "      <th>Ownership</th>\n",
       "      <th>Comfort</th>\n",
       "      <th>Interior</th>\n",
       "      <th>Performance</th>\n",
       "      <th>Value</th>\n",
       "      <th>Exterior</th>\n",
       "      <th>Reliability</th>\n",
       "      <th>Purchased</th>\n",
       "      <th>Used For</th>\n",
       "      <th>Recommend</th>\n",
       "      <th>Helpful</th>\n",
       "    </tr>\n",
       "  </thead>\n",
       "  <tbody>\n",
       "    <tr>\n",
       "      <th>0</th>\n",
       "      <td>lincoln</td>\n",
       "      <td>Lincoln Mks (2014)</td>\n",
       "      <td>4.0</td>\n",
       "      <td>A throwback to a better time</td>\n",
       "      <td>This is my second MKS, both 2015 AWD models.  ...</td>\n",
       "      <td>September 28, 2022</td>\n",
       "      <td>Dennis Mincin</td>\n",
       "      <td>Belleville, NJ</td>\n",
       "      <td>Owns this car</td>\n",
       "      <td>5.0</td>\n",
       "      <td>5.0</td>\n",
       "      <td>5.0</td>\n",
       "      <td>4.0</td>\n",
       "      <td>5.0</td>\n",
       "      <td>5.0</td>\n",
       "      <td>Used</td>\n",
       "      <td>Having fun</td>\n",
       "      <td>Does</td>\n",
       "      <td>6/6</td>\n",
       "    </tr>\n",
       "    <tr>\n",
       "      <th>1</th>\n",
       "      <td>lincoln</td>\n",
       "      <td>Lincoln Mks (2014)</td>\n",
       "      <td>4.0</td>\n",
       "      <td>Fine car - rides noisy. Lumpa and pothole sera...</td>\n",
       "      <td>2014 Great car. Power, handling,comfort,except...</td>\n",
       "      <td>June 6, 2022</td>\n",
       "      <td>William</td>\n",
       "      <td>Alfred, Maine</td>\n",
       "      <td>Owns this car</td>\n",
       "      <td>4.0</td>\n",
       "      <td>4.0</td>\n",
       "      <td>5.0</td>\n",
       "      <td>4.0</td>\n",
       "      <td>5.0</td>\n",
       "      <td>4.0</td>\n",
       "      <td>Used</td>\n",
       "      <td>Transporting family</td>\n",
       "      <td>Does</td>\n",
       "      <td>6/6</td>\n",
       "    </tr>\n",
       "    <tr>\n",
       "      <th>2</th>\n",
       "      <td>lincoln</td>\n",
       "      <td>Lincoln Mks (2014)</td>\n",
       "      <td>3.0</td>\n",
       "      <td>steer clear</td>\n",
       "      <td>I bought a 2013 with factory 20\" wheels. It do...</td>\n",
       "      <td>April 2, 2021</td>\n",
       "      <td>Dave's not here</td>\n",
       "      <td>Kansas City</td>\n",
       "      <td>Owns this car</td>\n",
       "      <td>1.0</td>\n",
       "      <td>4.0</td>\n",
       "      <td>4.0</td>\n",
       "      <td>3.0</td>\n",
       "      <td>5.0</td>\n",
       "      <td>2.0</td>\n",
       "      <td>Used</td>\n",
       "      <td>Commuting</td>\n",
       "      <td>Does</td>\n",
       "      <td>25/28</td>\n",
       "    </tr>\n",
       "    <tr>\n",
       "      <th>3</th>\n",
       "      <td>lincoln</td>\n",
       "      <td>Lincoln Mks (2014)</td>\n",
       "      <td>5.0</td>\n",
       "      <td>One of the Last Great Big American Sedans</td>\n",
       "      <td>This is one of the last great big American Sed...</td>\n",
       "      <td>September 23, 2020</td>\n",
       "      <td>Bran 29</td>\n",
       "      <td>IL</td>\n",
       "      <td>Owns this car</td>\n",
       "      <td>5.0</td>\n",
       "      <td>5.0</td>\n",
       "      <td>5.0</td>\n",
       "      <td>5.0</td>\n",
       "      <td>5.0</td>\n",
       "      <td>5.0</td>\n",
       "      <td>New</td>\n",
       "      <td>Commuting</td>\n",
       "      <td>Does</td>\n",
       "      <td>15/15</td>\n",
       "    </tr>\n",
       "    <tr>\n",
       "      <th>4</th>\n",
       "      <td>lincoln</td>\n",
       "      <td>Lincoln Mks (2014)</td>\n",
       "      <td>5.0</td>\n",
       "      <td>Luxury Luxury with a sporty look</td>\n",
       "      <td>I love this vehicle and wish I had owned one s...</td>\n",
       "      <td>June 13, 2020</td>\n",
       "      <td>Makinwaves96</td>\n",
       "      <td>EAST PRAIRIE, Mo</td>\n",
       "      <td>Owns this car</td>\n",
       "      <td>5.0</td>\n",
       "      <td>5.0</td>\n",
       "      <td>5.0</td>\n",
       "      <td>5.0</td>\n",
       "      <td>5.0</td>\n",
       "      <td>5.0</td>\n",
       "      <td>Used</td>\n",
       "      <td>Transporting family</td>\n",
       "      <td>Does</td>\n",
       "      <td>12/12</td>\n",
       "    </tr>\n",
       "  </tbody>\n",
       "</table>\n",
       "</div>"
      ]
     },
     "execution_count": 4,
     "metadata": {},
     "output_type": "execute_result"
    }
   ],
   "execution_count": 4
  },
  {
   "metadata": {
    "ExecuteTime": {
     "end_time": "2025-05-04T09:09:49.730438Z",
     "start_time": "2025-05-04T09:09:49.708883Z"
    }
   },
   "cell_type": "code",
   "source": "df.info()",
   "id": "759a9581415dc8c4",
   "outputs": [
    {
     "name": "stdout",
     "output_type": "stream",
     "text": [
      "<class 'pandas.core.frame.DataFrame'>\n",
      "RangeIndex: 12770 entries, 0 to 12769\n",
      "Data columns (total 19 columns):\n",
      " #   Column       Non-Null Count  Dtype  \n",
      "---  ------       --------------  -----  \n",
      " 0   Brand        12770 non-null  object \n",
      " 1   Car Model    12770 non-null  object \n",
      " 2   Rating       12770 non-null  float64\n",
      " 3   Title        12769 non-null  object \n",
      " 4   Review Text  12769 non-null  object \n",
      " 5   Date         12770 non-null  object \n",
      " 6   Reviewer     12768 non-null  object \n",
      " 7   Location     12058 non-null  object \n",
      " 8   Ownership    12769 non-null  object \n",
      " 9   Comfort      12769 non-null  object \n",
      " 10  Interior     12769 non-null  object \n",
      " 11  Performance  12769 non-null  object \n",
      " 12  Value        12769 non-null  object \n",
      " 13  Exterior     12769 non-null  object \n",
      " 14  Reliability  12769 non-null  object \n",
      " 15  Purchased    12716 non-null  object \n",
      " 16  Used For     11628 non-null  object \n",
      " 17  Recommend    12770 non-null  object \n",
      " 18  Helpful      12770 non-null  object \n",
      "dtypes: float64(1), object(18)\n",
      "memory usage: 1.9+ MB\n"
     ]
    }
   ],
   "execution_count": 5
  },
  {
   "metadata": {
    "ExecuteTime": {
     "end_time": "2025-05-04T09:16:12.253019Z",
     "start_time": "2025-05-04T09:16:10.848736Z"
    }
   },
   "cell_type": "code",
   "source": [
    "# Function to perform EDA\n",
    "def perform_eda(df):\n",
    "    # Create a text file to save EDA results\n",
    "    with open('car_reviews_eda.txt', 'w') as f:\n",
    "        f.write(\"EXPLORATORY DATA ANALYSIS (EDA) FOR CAR REVIEWS\\n\")\n",
    "        f.write(\"=\"*50 + \"\\n\\n\")\n",
    "\n",
    "        # 1. Basic Information\n",
    "        f.write(\"1. BASIC INFORMATION\\n\")\n",
    "        f.write(\"-\"*30 + \"\\n\")\n",
    "        f.write(f\"Total records: {len(df)}\\n\")\n",
    "        f.write(f\"Total columns: {len(df.columns)}\\n\")\n",
    "        f.write(\"\\nColumn names:\\n\")\n",
    "        f.write(\", \".join(df.columns) + \"\\n\\n\")\n",
    "\n",
    "        # 2. Data Types\n",
    "        f.write(\"2. DATA TYPES\\n\")\n",
    "        f.write(\"-\"*30 + \"\\n\")\n",
    "        f.write(str(df.dtypes) + \"\\n\\n\")\n",
    "\n",
    "        # 3. Missing Values\n",
    "        f.write(\"3. MISSING VALUES\\n\")\n",
    "        f.write(\"-\"*30 + \"\\n\")\n",
    "        f.write(str(df.isnull().sum()) + \"\\n\\n\")\n",
    "\n",
    "        # 4. Descriptive Statistics\n",
    "        f.write(\"4. DESCRIPTIVE STATISTICS\\n\")\n",
    "        f.write(\"-\"*30 + \"\\n\")\n",
    "        f.write(str(df.describe(include='all')) + \"\\n\\n\")\n",
    "\n",
    "        # 5. Unique Values\n",
    "        f.write(\"5. UNIQUE VALUES\\n\")\n",
    "        f.write(\"-\"*30 + \"\\n\")\n",
    "        for col in df.columns:\n",
    "            f.write(f\"{col}: {df[col].nunique()} unique values\\n\")\n",
    "            if df[col].nunique() < 10:\n",
    "                f.write(f\"Values: {df[col].unique()}\\n\")\n",
    "        f.write(\"\\n\")\n",
    "\n",
    "    # Visualization (since we only have one record, some plots won't be meaningful)\n",
    "    print(\"Creating visualizations...\")\n",
    "\n",
    "    # Rating distribution (if we had more data)\n",
    "    if len(df) > 1 and 'Rating' in df.columns:\n",
    "        plt.figure(figsize=(8, 5))\n",
    "        sns.countplot(x='Rating', data=df)\n",
    "        plt.title('Distribution of Ratings')\n",
    "        plt.savefig('rating_distribution.png')\n",
    "        plt.close()\n",
    "\n",
    "    # Brand distribution (if we had more data)\n",
    "    if len(df) > 1 and 'Brand' in df.columns:\n",
    "        plt.figure(figsize=(12, 6))\n",
    "        df['Brand'].value_counts().plot(kind='bar')\n",
    "        plt.title('Brand Distribution')\n",
    "        plt.xticks(rotation=45)\n",
    "        plt.savefig('brand_distribution.png')\n",
    "        plt.close()\n",
    "\n",
    "    # Word cloud for review text (if we had more data)\n",
    "    if len(df) > 1 and 'Review Text' in df.columns:\n",
    "        from wordcloud import WordCloud\n",
    "        text = \" \".join(review for review in df['Review Text'].dropna())\n",
    "        wordcloud = WordCloud(background_color='white').generate(text)\n",
    "        plt.figure(figsize=(10, 6))\n",
    "        plt.imshow(wordcloud, interpolation='bilinear')\n",
    "        plt.axis(\"off\")\n",
    "        plt.title('Common Words in Reviews')\n",
    "        plt.savefig('word_cloud.png')\n",
    "        plt.close()\n",
    "\n",
    "    print(\"EDA completed. Results saved to 'car_reviews_eda.txt'\")\n",
    "    if len(df) > 1:\n",
    "        print(\"Visualizations saved as PNG files.\")\n",
    "\n",
    "# Perform EDA\n",
    "perform_eda(df)\n"
   ],
   "id": "632881faa257e3c6",
   "outputs": [
    {
     "name": "stdout",
     "output_type": "stream",
     "text": [
      "Creating visualizations...\n",
      "EDA completed. Results saved to 'car_reviews_eda.txt'\n",
      "Visualizations saved as PNG files.\n"
     ]
    }
   ],
   "execution_count": 8
  },
  {
   "metadata": {
    "ExecuteTime": {
     "end_time": "2025-05-04T09:21:57.841322Z",
     "start_time": "2025-05-04T09:21:57.732497Z"
    }
   },
   "cell_type": "code",
   "source": [
    "import pandas as pd\n",
    "import matplotlib.pyplot as plt\n",
    "import seaborn as sns\n",
    "import chardet  # For detecting file encoding\n",
    "\n",
    "def load_data_with_encoding_check(filepath):\n",
    "    \"\"\"Load data with encoding detection and non-UTF-8 character handling\"\"\"\n",
    "    # Detect file encoding\n",
    "    with open(filepath, 'rb') as f:\n",
    "        result = chardet.detect(f.read())\n",
    "\n",
    "    print(f\"Detected encoding: {result['encoding']} with confidence {result['confidence']}\")\n",
    "\n",
    "    try:\n",
    "        # Try reading with detected encoding\n",
    "        df = pd.read_csv(filepath, encoding=result['encoding'])\n",
    "        print(\"Successfully loaded with detected encoding\")\n",
    "    except:\n",
    "        try:\n",
    "            # Fallback to UTF-8 with error handling\n",
    "            df = pd.read_csv(filepath, encoding='utf-8', errors='replace')\n",
    "            print(\"Used UTF-8 with replacement for non-UTF-8 characters\")\n",
    "        except:\n",
    "            # Final fallback to latin1\n",
    "            df = pd.read_csv(filepath, encoding='latin1')\n",
    "            print(\"Used latin1 encoding as final fallback\")\n",
    "\n",
    "    return df"
   ],
   "id": "47827ad80d00d261",
   "outputs": [],
   "execution_count": 9
  },
  {
   "metadata": {
    "ExecuteTime": {
     "end_time": "2025-05-04T09:22:56.822398Z",
     "start_time": "2025-05-04T09:22:51.646338Z"
    }
   },
   "cell_type": "code",
   "source": "df1 = load_data_with_encoding_check(r'E:\\Study\\BHT\\Semester2\\DSWorkflow\\new_app\\data\\car_reviews_full.csv')",
   "id": "ed3abfa63d5b8186",
   "outputs": [
    {
     "name": "stdout",
     "output_type": "stream",
     "text": [
      "Detected encoding: MacRoman with confidence 0.7241542719166872\n",
      "Successfully loaded with detected encoding\n"
     ]
    }
   ],
   "execution_count": 11
  },
  {
   "metadata": {
    "ExecuteTime": {
     "end_time": "2025-05-04T09:37:32.689927Z",
     "start_time": "2025-05-04T09:37:32.678070Z"
    }
   },
   "cell_type": "code",
   "source": "df1.isnull().sum()",
   "id": "42c04ede8a397c46",
   "outputs": [
    {
     "data": {
      "text/plain": [
       "Brand             0\n",
       "Car Model         0\n",
       "Rating            0\n",
       "Title             1\n",
       "Review Text       1\n",
       "Date              0\n",
       "Reviewer          2\n",
       "Location        712\n",
       "Ownership         1\n",
       "Comfort           1\n",
       "Interior          1\n",
       "Performance       1\n",
       "Value             1\n",
       "Exterior          1\n",
       "Reliability       1\n",
       "Purchased        54\n",
       "Used For       1142\n",
       "Recommend         0\n",
       "Helpful           0\n",
       "dtype: int64"
      ]
     },
     "execution_count": 41,
     "metadata": {},
     "output_type": "execute_result"
    }
   ],
   "execution_count": 41
  },
  {
   "metadata": {
    "ExecuteTime": {
     "end_time": "2025-05-04T09:39:01.334006Z",
     "start_time": "2025-05-04T09:39:01.326566Z"
    }
   },
   "cell_type": "code",
   "source": [
    "# df1[df1['Review Text'].isna()== True]\n",
    "# df1[df1['Reviewer'].isna()== True];\n",
    "# df1[df1['Location'].isna()== True]\n",
    "# df1[df1['Ownership'].isna()== True] # All values are nan here same as Review TExt column can be dropped\n",
    "# df1[df1['Performance'].isna()== True] # same as above 202 line\n",
    "df1[(df1['Purchased'].isna()== True) & (df1['Used For'].isnull()== True)].count() # same row s as Used for Can be imputed with Other"
   ],
   "id": "2534c1b7d386794b",
   "outputs": [
    {
     "data": {
      "text/plain": [
       "Brand          54\n",
       "Car Model      54\n",
       "Rating         54\n",
       "Title          54\n",
       "Review Text    54\n",
       "Date           54\n",
       "Reviewer       54\n",
       "Location        0\n",
       "Ownership      54\n",
       "Comfort        54\n",
       "Interior       54\n",
       "Performance    54\n",
       "Value          54\n",
       "Exterior       54\n",
       "Reliability    54\n",
       "Purchased       0\n",
       "Used For        0\n",
       "Recommend      54\n",
       "Helpful        54\n",
       "dtype: int64"
      ]
     },
     "execution_count": 43,
     "metadata": {},
     "output_type": "execute_result"
    }
   ],
   "execution_count": 43
  },
  {
   "metadata": {
    "ExecuteTime": {
     "end_time": "2025-05-04T09:26:23.409648Z",
     "start_time": "2025-05-04T09:26:23.403376Z"
    }
   },
   "cell_type": "code",
   "source": "df1.Title[df.Title.isna()== True ]",
   "id": "5149b2de263cf3c8",
   "outputs": [
    {
     "data": {
      "text/plain": [
       "10128    NaN\n",
       "Name: Title, dtype: object"
      ]
     },
     "execution_count": 18,
     "metadata": {},
     "output_type": "execute_result"
    }
   ],
   "execution_count": 18
  },
  {
   "metadata": {},
   "cell_type": "markdown",
   "source": "Analysisng the missing value",
   "id": "7db86c34f75171b9"
  },
  {
   "metadata": {
    "ExecuteTime": {
     "end_time": "2025-05-04T09:58:59.824420Z",
     "start_time": "2025-05-04T09:58:59.815975Z"
    }
   },
   "cell_type": "code",
   "source": [
    "def analyze_missing_values(df):\n",
    "    \"\"\"Analyze and handle missing values\"\"\"\n",
    "    print(\"\\n=== MISSING VALUE ANALYSIS ===\")\n",
    "\n",
    "    # Calculate missing value percentages\n",
    "    missing = df.isnull().sum()\n",
    "    missing_percent = missing / len(df) * 100\n",
    "    missing_table = pd.concat([missing, missing_percent], axis=1)\n",
    "    missing_table.columns = ['Missing Count', 'Missing %']\n",
    "\n",
    "    # Sort by missing percentage\n",
    "    missing_table = missing_table.sort_values('Missing %', ascending=False)\n",
    "\n",
    "    print(\"\\nMissing value summary:\")\n",
    "    print(missing_table)\n",
    "\n",
    "    # Identify columns with high missing percentages\n",
    "    high_missing = missing_table[missing_table['Missing %'] > 70].index.tolist()\n",
    "\n",
    "    if high_missing:\n",
    "        print(f\"\\nColumns with >70% missing values (consider dropping): {high_missing}\")\n",
    "\n",
    "        # Check if these columns are important\n",
    "        important_cols = ['Rating', 'Review Text', 'Brand', 'Car Model']  # Define important columns\n",
    "        cols_to_drop = [col for col in high_missing if col not in important_cols]\n",
    "\n",
    "        if cols_to_drop:\n",
    "            print(f\"\\nDropping non-important columns with high missing values: {cols_to_drop}\")\n",
    "            df = df.drop(columns=cols_to_drop)\n",
    "        else:\n",
    "            print(\"\\nNo non-important columns with high missing values to drop\")\n",
    "    else:\n",
    "        print(\"\\nNo columns with >70% missing values\")\n",
    "\n",
    "    return df"
   ],
   "id": "9649ad59a411a6c9",
   "outputs": [],
   "execution_count": 44
  },
  {
   "metadata": {
    "ExecuteTime": {
     "end_time": "2025-05-04T09:59:35.227858Z",
     "start_time": "2025-05-04T09:59:35.155992Z"
    }
   },
   "cell_type": "code",
   "source": "df = analyze_missing_values(df1)",
   "id": "294b9aac5b69bcdf",
   "outputs": [
    {
     "name": "stdout",
     "output_type": "stream",
     "text": [
      "\n",
      "=== MISSING VALUE ANALYSIS ===\n",
      "\n",
      "Missing value summary:\n",
      "             Missing Count  Missing %\n",
      "Used For              1142   8.942835\n",
      "Location               712   5.575568\n",
      "Purchased               54   0.422866\n",
      "Reviewer                 2   0.015662\n",
      "Reliability              1   0.007831\n",
      "Performance              1   0.007831\n",
      "Interior                 1   0.007831\n",
      "Comfort                  1   0.007831\n",
      "Ownership                1   0.007831\n",
      "Review Text              1   0.007831\n",
      "Title                    1   0.007831\n",
      "Exterior                 1   0.007831\n",
      "Value                    1   0.007831\n",
      "Brand                    0   0.000000\n",
      "Car Model                0   0.000000\n",
      "Rating                   0   0.000000\n",
      "Date                     0   0.000000\n",
      "Recommend                0   0.000000\n",
      "Helpful                  0   0.000000\n",
      "\n",
      "No columns with >70% missing values\n"
     ]
    }
   ],
   "execution_count": 45
  },
  {
   "metadata": {
    "ExecuteTime": {
     "end_time": "2025-05-04T10:16:20.205353Z",
     "start_time": "2025-05-04T10:16:20.190133Z"
    }
   },
   "cell_type": "code",
   "source": [
    "# df['nan_count'] = df.isna().sum(axis=1)\n",
    "print(\"\\nRows with their NaN counts:\")\n",
    "# print(pd.DataFrame(df.sort_values('nan_count', ascending=False).iloc([df['nan_count']>5])))\n",
    "df.loc[df['nan_count'] > 5]"
   ],
   "id": "13b3d05749a64f6b",
   "outputs": [
    {
     "name": "stdout",
     "output_type": "stream",
     "text": [
      "\n",
      "Rows with their NaN counts:\n"
     ]
    },
    {
     "data": {
      "text/plain": [
       "      Brand             Car Model  Rating  \\\n",
       "202  nissan  Nissan Armada (2025)     5.0   \n",
       "\n",
       "                                                 Title Review Text  \\\n",
       "202  I was a victim of a devastating investment sca...         NaN   \n",
       "\n",
       "                                           Date              Reviewer  \\\n",
       "202  By jane from californaUsed to own this car  Used to own this car   \n",
       "\n",
       "    Location Ownership Comfort Interior Performance Value Exterior  \\\n",
       "202      NaN       NaN     NaN      NaN         NaN   NaN      NaN   \n",
       "\n",
       "    Reliability Purchased    Used For Recommend Helpful  nan_count  \n",
       "202         NaN       New  Having fun      Does     1/3          9  "
      ],
      "text/html": [
       "<div>\n",
       "<style scoped>\n",
       "    .dataframe tbody tr th:only-of-type {\n",
       "        vertical-align: middle;\n",
       "    }\n",
       "\n",
       "    .dataframe tbody tr th {\n",
       "        vertical-align: top;\n",
       "    }\n",
       "\n",
       "    .dataframe thead th {\n",
       "        text-align: right;\n",
       "    }\n",
       "</style>\n",
       "<table border=\"1\" class=\"dataframe\">\n",
       "  <thead>\n",
       "    <tr style=\"text-align: right;\">\n",
       "      <th></th>\n",
       "      <th>Brand</th>\n",
       "      <th>Car Model</th>\n",
       "      <th>Rating</th>\n",
       "      <th>Title</th>\n",
       "      <th>Review Text</th>\n",
       "      <th>Date</th>\n",
       "      <th>Reviewer</th>\n",
       "      <th>Location</th>\n",
       "      <th>Ownership</th>\n",
       "      <th>Comfort</th>\n",
       "      <th>Interior</th>\n",
       "      <th>Performance</th>\n",
       "      <th>Value</th>\n",
       "      <th>Exterior</th>\n",
       "      <th>Reliability</th>\n",
       "      <th>Purchased</th>\n",
       "      <th>Used For</th>\n",
       "      <th>Recommend</th>\n",
       "      <th>Helpful</th>\n",
       "      <th>nan_count</th>\n",
       "    </tr>\n",
       "  </thead>\n",
       "  <tbody>\n",
       "    <tr>\n",
       "      <th>202</th>\n",
       "      <td>nissan</td>\n",
       "      <td>Nissan Armada (2025)</td>\n",
       "      <td>5.0</td>\n",
       "      <td>I was a victim of a devastating investment sca...</td>\n",
       "      <td>NaN</td>\n",
       "      <td>By jane from californaUsed to own this car</td>\n",
       "      <td>Used to own this car</td>\n",
       "      <td>NaN</td>\n",
       "      <td>NaN</td>\n",
       "      <td>NaN</td>\n",
       "      <td>NaN</td>\n",
       "      <td>NaN</td>\n",
       "      <td>NaN</td>\n",
       "      <td>NaN</td>\n",
       "      <td>NaN</td>\n",
       "      <td>New</td>\n",
       "      <td>Having fun</td>\n",
       "      <td>Does</td>\n",
       "      <td>1/3</td>\n",
       "      <td>9</td>\n",
       "    </tr>\n",
       "  </tbody>\n",
       "</table>\n",
       "</div>"
      ]
     },
     "execution_count": 65,
     "metadata": {},
     "output_type": "execute_result"
    }
   ],
   "execution_count": 65
  },
  {
   "metadata": {},
   "cell_type": "markdown",
   "source": "Drop row where most of the values were Nan",
   "id": "39d5f9288679126"
  },
  {
   "metadata": {
    "ExecuteTime": {
     "end_time": "2025-05-04T10:09:30.880754Z",
     "start_time": "2025-05-04T10:09:30.867834Z"
    }
   },
   "cell_type": "code",
   "source": [
    "# Then decide on threshold and drop\n",
    "df_cleaned = df[df['nan_count'] < len(df.columns)/3].drop(columns=['nan_count'])\n",
    "df.shape, df_cleaned.shape"
   ],
   "id": "6fc1ccc306a2fa89",
   "outputs": [
    {
     "data": {
      "text/plain": [
       "((12770, 20), (12769, 19))"
      ]
     },
     "execution_count": 54,
     "metadata": {},
     "output_type": "execute_result"
    }
   ],
   "execution_count": 54
  },
  {
   "metadata": {
    "ExecuteTime": {
     "end_time": "2025-05-04T10:31:23.937594Z",
     "start_time": "2025-05-04T10:31:23.909130Z"
    }
   },
   "cell_type": "code",
   "source": "df_cleaned.isnull().sum()",
   "id": "30f15c48736d0726",
   "outputs": [
    {
     "data": {
      "text/plain": [
       "Brand             0\n",
       "Car Model         0\n",
       "Rating            0\n",
       "Title             1\n",
       "Review Text       0\n",
       "Date              0\n",
       "Reviewer          2\n",
       "Location        711\n",
       "Ownership         0\n",
       "Comfort           0\n",
       "Interior          0\n",
       "Performance       0\n",
       "Value             0\n",
       "Exterior          0\n",
       "Reliability       0\n",
       "Purchased        54\n",
       "Used For       1142\n",
       "Recommend         0\n",
       "Helpful           0\n",
       "dtype: int64"
      ]
     },
     "execution_count": 66,
     "metadata": {},
     "output_type": "execute_result"
    }
   ],
   "execution_count": 66
  },
  {
   "metadata": {
    "ExecuteTime": {
     "end_time": "2025-05-04T10:33:26.624905Z",
     "start_time": "2025-05-04T10:33:26.608818Z"
    }
   },
   "cell_type": "code",
   "source": [
    "col_to_impute = ['Title','Reviewer','Location','Purchased', 'Used For']\n",
    "for cols in col_to_impute:\n",
    "    df_cleaned[cols] = df_cleaned[cols].fillna('Other')\n",
    "df_cleaned.isnull().sum()"
   ],
   "id": "370d0b11793d09e8",
   "outputs": [
    {
     "data": {
      "text/plain": [
       "Brand          0\n",
       "Car Model      0\n",
       "Rating         0\n",
       "Title          0\n",
       "Review Text    0\n",
       "Date           0\n",
       "Reviewer       0\n",
       "Location       0\n",
       "Ownership      0\n",
       "Comfort        0\n",
       "Interior       0\n",
       "Performance    0\n",
       "Value          0\n",
       "Exterior       0\n",
       "Reliability    0\n",
       "Purchased      0\n",
       "Used For       0\n",
       "Recommend      0\n",
       "Helpful        0\n",
       "dtype: int64"
      ]
     },
     "execution_count": 68,
     "metadata": {},
     "output_type": "execute_result"
    }
   ],
   "execution_count": 68
  },
  {
   "metadata": {},
   "cell_type": "code",
   "outputs": [],
   "execution_count": null,
   "source": "",
   "id": "32caddc37cfdfe3e"
  }
 ],
 "metadata": {},
 "nbformat": 4,
 "nbformat_minor": 5
}
